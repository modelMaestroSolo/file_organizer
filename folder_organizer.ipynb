{
 "cells": [
  {
   "cell_type": "code",
   "execution_count": null,
   "id": "a49e6e8a",
   "metadata": {},
   "outputs": [],
   "source": [
    "import os\n",
    "import shutil"
   ]
  },
  {
   "cell_type": "code",
   "execution_count": null,
   "id": "5762a675",
   "metadata": {},
   "outputs": [],
   "source": [
    "# you can use os.chdir and os.\n",
    "dir_path = input('enter directory path: ') # paste file path of messy folder\n",
    "dir_path"
   ]
  },
  {
   "cell_type": "code",
   "execution_count": null,
   "id": "729c7e5b",
   "metadata": {},
   "outputs": [],
   "source": [
    "# function modified to work even when the messy folder contains already created directory from \n",
    "# previous use. \n",
    "def folder_organizer(directory):\n",
    "    ''' This function organizes messy folder. It expects just one argument: the folder path  '''\n",
    "    #get unique extensions from the folder\n",
    "    extensions = set()\n",
    "    dest_folders = []\n",
    "    number_of_files = 0\n",
    "\n",
    "    for filename in os.listdir(dir_path):\n",
    "        file_path = os.path.join(dir_path, filename)\n",
    "        if os.path.isfile(file_path):\n",
    "            number_of_files += 1\n",
    "            ext = os.path.splitext(filename)[1]\n",
    "            extensions.add(ext)        \n",
    "    extensions = list(extensions)\n",
    "    #create a folder for each extension\n",
    "    for ext in extensions:\n",
    "        try:\n",
    "            folder_path = os.path.join(dir_path, ext[1:] + '_files')\n",
    "            os.mkdir( folder_path )\n",
    "            dest_folders.append(folder_path)\n",
    "        except FileExistsError:\n",
    "            dest_folders.append(folder_path)\n",
    "            continue\n",
    "\n",
    "    #create a dictionary to map each file type to it's corresponding folder\n",
    "    ext_dict = {ext:folder for ext, folder in zip(extensions, dest_folders)}    \n",
    "\n",
    "    # move files to their corresponding folders\n",
    "    for filename in os.listdir(dir_path):\n",
    "        file_path = os.path.join(dir_path, filename)\n",
    "        if os.path.isfile(file_path):\n",
    "            ext = os.path.splitext(filename)[1]\n",
    "            dest_folder = ext_dict[ext]\n",
    "            shutil.move(filename, dest_folder )\n",
    "\n",
    "    print('Files organized successfully!')\n",
    "    print(f'{number_of_files} files moved to the following locations')\n",
    "    for folder in dest_folders:\n",
    "        print(folder)"
   ]
  },
  {
   "cell_type": "code",
   "execution_count": null,
   "id": "dd994e7f",
   "metadata": {},
   "outputs": [],
   "source": [
    "folder_organizer(directory=dir_path) "
   ]
  },
  {
   "cell_type": "code",
   "execution_count": null,
   "id": "a3bb24b5",
   "metadata": {},
   "outputs": [],
   "source": []
  }
 ],
 "metadata": {
  "kernelspec": {
   "display_name": "Python 3 (ipykernel)",
   "language": "python",
   "name": "python3"
  },
  "language_info": {
   "codemirror_mode": {
    "name": "ipython",
    "version": 3
   },
   "file_extension": ".py",
   "mimetype": "text/x-python",
   "name": "python",
   "nbconvert_exporter": "python",
   "pygments_lexer": "ipython3",
   "version": "3.11.3"
  }
 },
 "nbformat": 4,
 "nbformat_minor": 5
}
